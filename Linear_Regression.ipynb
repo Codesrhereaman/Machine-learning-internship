{
 "cells": [
  {
   "cell_type": "code",
   "execution_count": null,
   "id": "d0221c9d-4c0a-47f5-bc3b-62fec6884661",
   "metadata": {},
   "outputs": [
    {
     "name": "stdout",
     "output_type": "stream",
     "text": [
      "Model Evaluation:\n",
      "R² Score: 0.63\n",
      "Mean Squared Error: 2806426667.25\n",
      "Root Mean Squared Error: 52975.72\n",
      "\n",
      "Model Coefficients:\n",
      "GrLivArea: 104.03\n",
      "BedroomAbvGr: -26655.17\n",
      "FullBath: 30014.32\n",
      "Intercept: 52261.75\n"
     ]
    }
   ],
   "source": [
    "# Import required libraries\n",
    "import pandas as pd\n",
    "import numpy as np\n",
    "from sklearn.linear_model import LinearRegression\n",
    "from sklearn.model_selection import train_test_split\n",
    "from sklearn.metrics import mean_squared_error, r2_score\n",
    "\n",
    "# Load the dataset (make sure 'train.csv' is in your working directory)\n",
    "df = pd.read_csv('./Datasets/train.csv')\n",
    "\n",
    "# Select relevant features: square footage, bedrooms, bathrooms\n",
    "# GrLivArea: Above grade (ground) living area\n",
    "# BedroomAbvGr: Number of bedrooms above ground\n",
    "# FullBath: Number of full bathrooms\n",
    "# SalePrice: Target variable\n",
    "data = df[['GrLivArea', 'BedroomAbvGr', 'FullBath', 'SalePrice']].dropna()\n",
    "\n",
    "# Define features (X) and target (y)\n",
    "X = data[['GrLivArea', 'BedroomAbvGr', 'FullBath']]\n",
    "y = data['SalePrice']\n",
    "\n",
    "# Split the dataset into training and testing sets (80% train, 20% test)\n",
    "X_train, X_test, y_train, y_test = train_test_split(X, y, test_size=0.2, random_state=42)\n",
    "\n",
    "# Initialize and train the Linear Regression model\n",
    "model = LinearRegression()\n",
    "model.fit(X_train, y_train)\n",
    "\n",
    "# Predict prices on the test set\n",
    "y_pred = model.predict(X_test)\n",
    "\n",
    "# Evaluate the model\n",
    "mse = mean_squared_error(y_test, y_pred)\n",
    "rmse = np.sqrt(mse)\n",
    "r2 = r2_score(y_test, y_pred)\n",
    "\n",
    "# Print evaluation metrics and coefficients\n",
    "print(\"Model Evaluation:\")\n",
    "print(f\"R² Score: {r2:.2f}\")\n",
    "print(f\"Mean Squared Error: {mse:.2f}\")\n",
    "print(f\"Root Mean Squared Error: {rmse:.2f}\")\n",
    "print(\"\\nModel Coefficients:\")\n",
    "for feature, coef in zip(X.columns, model.coef_):\n",
    "    print(f\"{feature}: {coef:.2f}\")\n",
    "print(f\"Intercept: {model.intercept_:.2f}\")\n"
   ]
  },
  {
   "cell_type": "code",
   "execution_count": null,
   "id": "085533f2-6e47-460b-97ed-e7e264394534",
   "metadata": {},
   "outputs": [],
   "source": []
  }
 ],
 "metadata": {
  "kernelspec": {
   "display_name": "Python [conda env:base] *",
   "language": "python",
   "name": "conda-base-py"
  },
  "language_info": {
   "codemirror_mode": {
    "name": "ipython",
    "version": 3
   },
   "file_extension": ".py",
   "mimetype": "text/x-python",
   "name": "python",
   "nbconvert_exporter": "python",
   "pygments_lexer": "ipython3",
   "version": "3.12.7"
  }
 },
 "nbformat": 4,
 "nbformat_minor": 5
}
